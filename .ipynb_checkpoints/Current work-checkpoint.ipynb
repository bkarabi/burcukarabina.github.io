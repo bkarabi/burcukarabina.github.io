{
 "cells": [
  {
   "cell_type": "markdown",
   "id": "b4a69410-45e6-40b8-acbf-2e755e3b96b7",
   "metadata": {},
   "source": [
    "*Burcu Karabina* is an Associate Professor at the University of Waterloo."
   ]
  },
  {
   "cell_type": "code",
   "execution_count": null,
   "id": "c772d33a-ee04-4d7d-b21a-37194912d43b",
   "metadata": {},
   "outputs": [],
   "source": []
  }
 ],
 "metadata": {
  "kernelspec": {
   "display_name": "Python 3 (ipykernel)",
   "language": "python",
   "name": "python3"
  },
  "language_info": {
   "codemirror_mode": {
    "name": "ipython",
    "version": 3
   },
   "file_extension": ".py",
   "mimetype": "text/x-python",
   "name": "python",
   "nbconvert_exporter": "python",
   "pygments_lexer": "ipython3",
   "version": "3.12.8"
  }
 },
 "nbformat": 4,
 "nbformat_minor": 5
}
